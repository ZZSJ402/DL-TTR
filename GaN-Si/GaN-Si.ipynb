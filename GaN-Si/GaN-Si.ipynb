{
 "cells": [
  {
   "cell_type": "markdown",
   "metadata": {},
   "source": [
    "## Prerequisites"
   ]
  },
  {
   "cell_type": "code",
   "execution_count": 1,
   "metadata": {
    "ExecuteTime": {
     "end_time": "2024-01-31T07:35:51.025085Z",
     "start_time": "2024-01-31T07:35:49.328773Z"
    },
    "scrolled": true
   },
   "outputs": [
    {
     "name": "stdout",
     "output_type": "stream",
     "text": [
      "Requirement already satisfied: numpy in c:\\users\\nihao\\anaconda3\\lib\\site-packages (1.20.1)\n",
      "Requirement already satisfied: matplotlib in c:\\users\\nihao\\anaconda3\\lib\\site-packages (3.3.4)\n",
      "Requirement already satisfied: pandas in c:\\users\\nihao\\anaconda3\\lib\\site-packages (1.2.4)\n",
      "Requirement already satisfied: sklearn in c:\\users\\nihao\\anaconda3\\lib\\site-packages (0.0)\n",
      "Requirement already satisfied: pyparsing!=2.0.4,!=2.1.2,!=2.1.6,>=2.0.3 in c:\\users\\nihao\\anaconda3\\lib\\site-packages (from matplotlib) (2.4.7)\n",
      "Requirement already satisfied: pillow>=6.2.0 in c:\\users\\nihao\\anaconda3\\lib\\site-packages (from matplotlib) (8.2.0)\n",
      "Requirement already satisfied: kiwisolver>=1.0.1 in c:\\users\\nihao\\anaconda3\\lib\\site-packages (from matplotlib) (1.3.1)\n",
      "Requirement already satisfied: python-dateutil>=2.1 in c:\\users\\nihao\\anaconda3\\lib\\site-packages (from matplotlib) (2.8.1)\n",
      "Requirement already satisfied: cycler>=0.10 in c:\\users\\nihao\\anaconda3\\lib\\site-packages (from matplotlib) (0.10.0)\n",
      "Requirement already satisfied: six in c:\\users\\nihao\\anaconda3\\lib\\site-packages (from cycler>=0.10->matplotlib) (1.15.0)\n",
      "Requirement already satisfied: pytz>=2017.3 in c:\\users\\nihao\\anaconda3\\lib\\site-packages (from pandas) (2021.1)\n",
      "Requirement already satisfied: scikit-learn in c:\\users\\nihao\\anaconda3\\lib\\site-packages (from sklearn) (0.24.1)\n",
      "Requirement already satisfied: threadpoolctl>=2.0.0 in c:\\users\\nihao\\anaconda3\\lib\\site-packages (from scikit-learn->sklearn) (2.1.0)\n",
      "Requirement already satisfied: scipy>=0.19.1 in c:\\users\\nihao\\anaconda3\\lib\\site-packages (from scikit-learn->sklearn) (1.6.2)\n",
      "Requirement already satisfied: joblib>=0.11 in c:\\users\\nihao\\anaconda3\\lib\\site-packages (from scikit-learn->sklearn) (1.0.1)\n"
     ]
    }
   ],
   "source": [
    "!pip install numpy matplotlib pandas sklearn"
   ]
  },
  {
   "cell_type": "code",
   "execution_count": 2,
   "metadata": {
    "ExecuteTime": {
     "end_time": "2024-01-31T07:35:51.117679Z",
     "start_time": "2024-01-31T07:35:51.026085Z"
    }
   },
   "outputs": [
    {
     "name": "stdout",
     "output_type": "stream",
     "text": [
      "Python 3.8.8\n"
     ]
    }
   ],
   "source": [
    "!python -V"
   ]
  },
  {
   "cell_type": "markdown",
   "metadata": {},
   "source": [
    "## Data Preprocessing"
   ]
  },
  {
   "cell_type": "code",
   "execution_count": 3,
   "metadata": {
    "ExecuteTime": {
     "end_time": "2024-01-31T07:35:51.243390Z",
     "start_time": "2024-01-31T07:35:51.118682Z"
    }
   },
   "outputs": [],
   "source": [
    "from scipy.io import loadmat"
   ]
  },
  {
   "cell_type": "code",
   "execution_count": 4,
   "metadata": {
    "ExecuteTime": {
     "end_time": "2024-01-31T07:35:51.258408Z",
     "start_time": "2024-01-31T07:35:51.244390Z"
    }
   },
   "outputs": [],
   "source": [
    "import pickle"
   ]
  },
  {
   "cell_type": "code",
   "execution_count": 5,
   "metadata": {
    "ExecuteTime": {
     "end_time": "2024-01-31T07:35:51.426879Z",
     "start_time": "2024-01-31T07:35:51.259400Z"
    }
   },
   "outputs": [],
   "source": [
    "import h5py"
   ]
  },
  {
   "cell_type": "code",
   "execution_count": 6,
   "metadata": {
    "ExecuteTime": {
     "end_time": "2024-01-31T07:35:52.589299Z",
     "start_time": "2024-01-31T07:35:51.427876Z"
    }
   },
   "outputs": [],
   "source": [
    "data = loadmat(r'ST640-GaN-Si-50-generate TTR not shift.mat')"
   ]
  },
  {
   "cell_type": "code",
   "execution_count": 7,
   "metadata": {
    "ExecuteTime": {
     "end_time": "2024-01-31T07:35:52.605256Z",
     "start_time": "2024-01-31T07:35:52.590296Z"
    }
   },
   "outputs": [],
   "source": [
    "import scipy"
   ]
  },
  {
   "cell_type": "code",
   "execution_count": 8,
   "metadata": {
    "ExecuteTime": {
     "end_time": "2024-01-31T07:35:52.621214Z",
     "start_time": "2024-01-31T07:35:52.606254Z"
    }
   },
   "outputs": [],
   "source": [
    "X = data['re']"
   ]
  },
  {
   "cell_type": "code",
   "execution_count": 9,
   "metadata": {
    "ExecuteTime": {
     "end_time": "2024-01-31T07:35:52.637171Z",
     "start_time": "2024-01-31T07:35:52.622211Z"
    }
   },
   "outputs": [
    {
     "data": {
      "text/plain": [
       "(125000, 300)"
      ]
     },
     "execution_count": 9,
     "metadata": {},
     "output_type": "execute_result"
    }
   ],
   "source": [
    "X.shape"
   ]
  },
  {
   "cell_type": "code",
   "execution_count": 10,
   "metadata": {
    "ExecuteTime": {
     "end_time": "2024-01-31T07:35:52.652748Z",
     "start_time": "2024-01-31T07:35:52.638168Z"
    }
   },
   "outputs": [],
   "source": [
    "import pickle\n",
    "import numpy as np"
   ]
  },
  {
   "cell_type": "code",
   "execution_count": 11,
   "metadata": {
    "ExecuteTime": {
     "end_time": "2024-01-31T07:35:52.668680Z",
     "start_time": "2024-01-31T07:35:52.653711Z"
    }
   },
   "outputs": [],
   "source": [
    "np.set_printoptions(suppress=True)"
   ]
  },
  {
   "cell_type": "code",
   "execution_count": 12,
   "metadata": {
    "ExecuteTime": {
     "end_time": "2024-01-31T07:35:52.684290Z",
     "start_time": "2024-01-31T07:35:52.669671Z"
    }
   },
   "outputs": [],
   "source": [
    "X = np.transpose(data['re'])"
   ]
  },
  {
   "cell_type": "code",
   "execution_count": 13,
   "metadata": {
    "ExecuteTime": {
     "end_time": "2024-01-31T07:35:52.699282Z",
     "start_time": "2024-01-31T07:35:52.685287Z"
    }
   },
   "outputs": [
    {
     "data": {
      "text/plain": [
       "(300, 125000)"
      ]
     },
     "execution_count": 13,
     "metadata": {},
     "output_type": "execute_result"
    }
   ],
   "source": [
    "X.shape"
   ]
  },
  {
   "cell_type": "code",
   "execution_count": 14,
   "metadata": {
    "ExecuteTime": {
     "end_time": "2024-01-31T07:35:52.714210Z",
     "start_time": "2024-01-31T07:35:52.704237Z"
    }
   },
   "outputs": [],
   "source": [
    "X = X.T"
   ]
  },
  {
   "cell_type": "code",
   "execution_count": 15,
   "metadata": {
    "ExecuteTime": {
     "end_time": "2024-01-31T07:35:52.886846Z",
     "start_time": "2024-01-31T07:35:52.877866Z"
    }
   },
   "outputs": [
    {
     "data": {
      "text/plain": [
       "(125000, 300)"
      ]
     },
     "execution_count": 15,
     "metadata": {},
     "output_type": "execute_result"
    }
   ],
   "source": [
    "X.shape"
   ]
  },
  {
   "cell_type": "code",
   "execution_count": 16,
   "metadata": {
    "ExecuteTime": {
     "end_time": "2024-01-31T07:35:53.105345Z",
     "start_time": "2024-01-31T07:35:53.094340Z"
    }
   },
   "outputs": [],
   "source": [
    "X = X[:,20:299]"
   ]
  },
  {
   "cell_type": "code",
   "execution_count": 17,
   "metadata": {
    "ExecuteTime": {
     "end_time": "2024-01-31T07:35:53.599192Z",
     "start_time": "2024-01-31T07:35:53.584231Z"
    }
   },
   "outputs": [
    {
     "data": {
      "text/plain": [
       "(125000, 279)"
      ]
     },
     "execution_count": 17,
     "metadata": {},
     "output_type": "execute_result"
    }
   ],
   "source": [
    "X.shape"
   ]
  },
  {
   "cell_type": "code",
   "execution_count": 18,
   "metadata": {
    "ExecuteTime": {
     "end_time": "2024-01-31T07:35:53.798896Z",
     "start_time": "2024-01-31T07:35:53.788922Z"
    }
   },
   "outputs": [],
   "source": [
    "layer_2 = np.linspace(10, 250, 50, endpoint=True)\n",
    "layer_3 = np.linspace(20, 200, 50, endpoint=True)\n",
    "layer_4 = np.linspace(50, 250, 50, endpoint=True)"
   ]
  },
  {
   "cell_type": "code",
   "execution_count": 19,
   "metadata": {
    "ExecuteTime": {
     "end_time": "2024-01-31T07:35:54.111701Z",
     "start_time": "2024-01-31T07:35:54.095744Z"
    }
   },
   "outputs": [],
   "source": [
    "y = np.zeros((X.shape[0], 3))"
   ]
  },
  {
   "cell_type": "code",
   "execution_count": 20,
   "metadata": {
    "ExecuteTime": {
     "end_time": "2024-01-31T07:35:54.574457Z",
     "start_time": "2024-01-31T07:35:54.503642Z"
    }
   },
   "outputs": [],
   "source": [
    "i = 0\n",
    "for l4 in layer_4:\n",
    "    for l3 in layer_3:\n",
    "        for l2 in layer_2:\n",
    "            y[i] = [l4, l3, l2]\n",
    "            i = i + 1"
   ]
  },
  {
   "cell_type": "code",
   "execution_count": 21,
   "metadata": {
    "ExecuteTime": {
     "end_time": "2024-01-31T07:35:56.112569Z",
     "start_time": "2024-01-31T07:35:56.101598Z"
    }
   },
   "outputs": [
    {
     "data": {
      "text/plain": [
       "(125000, 3)"
      ]
     },
     "execution_count": 21,
     "metadata": {},
     "output_type": "execute_result"
    }
   ],
   "source": [
    "y.shape"
   ]
  },
  {
   "cell_type": "markdown",
   "metadata": {},
   "source": [
    "### Train test split"
   ]
  },
  {
   "cell_type": "code",
   "execution_count": 22,
   "metadata": {
    "ExecuteTime": {
     "end_time": "2024-01-31T07:35:56.908077Z",
     "start_time": "2024-01-31T07:35:56.465073Z"
    }
   },
   "outputs": [],
   "source": [
    "from sklearn.model_selection import train_test_split"
   ]
  },
  {
   "cell_type": "code",
   "execution_count": 23,
   "metadata": {
    "ExecuteTime": {
     "end_time": "2024-01-31T07:35:57.348803Z",
     "start_time": "2024-01-31T07:35:56.909071Z"
    }
   },
   "outputs": [],
   "source": [
    "X_train, X_test, y_train, y_test = train_test_split(X, y, test_size=0.05, random_state=0)"
   ]
  },
  {
   "cell_type": "code",
   "execution_count": 24,
   "metadata": {
    "ExecuteTime": {
     "end_time": "2024-01-31T07:35:59.229625Z",
     "start_time": "2024-01-31T07:35:58.826644Z"
    }
   },
   "outputs": [],
   "source": [
    "import torch\n",
    "from torch.utils.data import Dataset, TensorDataset, DataLoader\n",
    "from torch.utils.data.dataset import random_split"
   ]
  },
  {
   "cell_type": "code",
   "execution_count": 25,
   "metadata": {
    "ExecuteTime": {
     "end_time": "2024-01-31T07:35:59.244843Z",
     "start_time": "2024-01-31T07:35:59.230804Z"
    }
   },
   "outputs": [],
   "source": [
    "#property = 0"
   ]
  },
  {
   "cell_type": "code",
   "execution_count": 26,
   "metadata": {
    "ExecuteTime": {
     "end_time": "2024-01-31T07:35:59.291717Z",
     "start_time": "2024-01-31T07:35:59.245841Z"
    }
   },
   "outputs": [],
   "source": [
    "x_train_tensor = torch.from_numpy(X_train).float()\n",
    "y_train_tensor = torch.from_numpy(y_train).float()\n",
    "\n",
    "x_test_tensor = torch.from_numpy(X_test).float()\n",
    "y_test_tensor = torch.from_numpy(y_test).float()"
   ]
  },
  {
   "cell_type": "code",
   "execution_count": 27,
   "metadata": {
    "ExecuteTime": {
     "end_time": "2024-01-31T07:35:59.402421Z",
     "start_time": "2024-01-31T07:35:59.385468Z"
    }
   },
   "outputs": [],
   "source": [
    "# Builds dataset with ALL data\n",
    "origin_train_dataset = TensorDataset(x_train_tensor, y_train_tensor)\n",
    "\n",
    "# Splits randomly into train and validation datasets\n",
    "train_dataset, val_dataset = random_split(origin_train_dataset, [int(x_train_tensor.shape[0] * 0.9), int(x_train_tensor.shape[0] * 0.1)])\n",
    "\n",
    "# Builds a loader for each dataset to perform mini-batch gradient descent\n",
    "train_loader = DataLoader(dataset=train_dataset, batch_size=2000)\n",
    "val_loader = DataLoader(dataset=val_dataset, batch_size=2000)\n",
    "\n",
    "test_dataset = TensorDataset(x_test_tensor, y_test_tensor)\n",
    "test_loader  = DataLoader(dataset=test_dataset, batch_size=2000)"
   ]
  },
  {
   "cell_type": "markdown",
   "metadata": {},
   "source": [
    "## Model"
   ]
  },
  {
   "cell_type": "code",
   "execution_count": 28,
   "metadata": {
    "ExecuteTime": {
     "end_time": "2024-01-31T07:36:00.335225Z",
     "start_time": "2024-01-31T07:36:00.321263Z"
    }
   },
   "outputs": [],
   "source": [
    "import torch.nn as nn"
   ]
  },
  {
   "cell_type": "code",
   "execution_count": 29,
   "metadata": {
    "ExecuteTime": {
     "end_time": "2024-01-31T07:36:00.749079Z",
     "start_time": "2024-01-31T07:36:00.744091Z"
    }
   },
   "outputs": [],
   "source": [
    "class Net(nn.Module):\n",
    "\n",
    "    def __init__(self):\n",
    "        super(Net, self).__init__()\n",
    "        self.bn1 = nn.BatchNorm1d(X.shape[1])\n",
    "        self.fc1 = nn.Linear(X.shape[1], 100)\n",
    "        self.bn2 = nn.BatchNorm1d(100)\n",
    "        self.fc2 = nn.Linear(100, 50)\n",
    "        self.fc3 = nn.Linear(50, 10)\n",
    "        self.fc4 = nn.Linear(10, 3)\n",
    "\n",
    "    def forward(self, x):\n",
    "        x = self.bn1(x)\n",
    "        x = self.fc1(x)\n",
    "        x = torch.tanh(x)\n",
    "        x = self.bn2(x)\n",
    "        x = self.fc2(x)\n",
    "        x = torch.tanh(x)\n",
    "        x = self.fc3(x)\n",
    "        x = torch.relu(x)\n",
    "        x = self.fc4(x)\n",
    "        x = torch.relu(x)\n",
    "        return x"
   ]
  },
  {
   "cell_type": "markdown",
   "metadata": {},
   "source": [
    "## Training"
   ]
  },
  {
   "cell_type": "code",
   "execution_count": 30,
   "metadata": {
    "ExecuteTime": {
     "end_time": "2024-01-31T07:36:01.246289Z",
     "start_time": "2024-01-31T07:36:01.238314Z"
    }
   },
   "outputs": [],
   "source": [
    "import torch.optim as optim"
   ]
  },
  {
   "cell_type": "code",
   "execution_count": 31,
   "metadata": {
    "ExecuteTime": {
     "end_time": "2024-01-31T07:36:01.431789Z",
     "start_time": "2024-01-31T07:36:01.423769Z"
    }
   },
   "outputs": [],
   "source": [
    "device = 'cuda' if torch.cuda.is_available() else 'cpu'"
   ]
  },
  {
   "cell_type": "code",
   "execution_count": 32,
   "metadata": {
    "ExecuteTime": {
     "end_time": "2024-01-31T07:36:01.616083Z",
     "start_time": "2024-01-31T07:36:01.610100Z"
    }
   },
   "outputs": [],
   "source": [
    "n_epochs = 80"
   ]
  },
  {
   "cell_type": "code",
   "execution_count": 33,
   "metadata": {
    "ExecuteTime": {
     "end_time": "2024-01-31T07:36:02.266425Z",
     "start_time": "2024-01-31T07:36:02.255460Z"
    }
   },
   "outputs": [],
   "source": [
    "def make_train_step(model, loss_fn, optimizer):\n",
    "    def train_step(x, y):\n",
    "        model.train()\n",
    "        yh = model(x)\n",
    "        #yh = torch.reshape(yh, (-1,))\n",
    "        loss = loss_fn(y, yh)\n",
    "        loss.backward()\n",
    "        torch.nn.utils.clip_grad_norm_(model.parameters(), 0.25)\n",
    "        optimizer.step()\n",
    "        optimizer.zero_grad()\n",
    "        return loss.item()\n",
    "    return train_step"
   ]
  },
  {
   "cell_type": "code",
   "execution_count": 34,
   "metadata": {
    "ExecuteTime": {
     "end_time": "2024-01-31T07:36:02.481615Z",
     "start_time": "2024-01-31T07:36:02.465488Z"
    }
   },
   "outputs": [],
   "source": [
    "model = Net().to(device)\n",
    "\n",
    "loss_fn = nn.MSELoss(reduction='mean')\n",
    "\n",
    "# optimizer = optim.SGD(model.parameters(), lr=0.01)\n",
    "optimizer = optim.Adam(model.parameters(), lr=0.001, weight_decay=0.001)\n",
    "\n",
    "train_step = make_train_step(model, loss_fn, optimizer)"
   ]
  },
  {
   "cell_type": "code",
   "execution_count": 35,
   "metadata": {
    "ExecuteTime": {
     "end_time": "2024-01-31T07:36:02.927299Z",
     "start_time": "2024-01-31T07:36:02.922264Z"
    },
    "scrolled": true
   },
   "outputs": [
    {
     "data": {
      "text/plain": [
       "Net(\n",
       "  (bn1): BatchNorm1d(279, eps=1e-05, momentum=0.1, affine=True, track_running_stats=True)\n",
       "  (fc1): Linear(in_features=279, out_features=100, bias=True)\n",
       "  (bn2): BatchNorm1d(100, eps=1e-05, momentum=0.1, affine=True, track_running_stats=True)\n",
       "  (fc2): Linear(in_features=100, out_features=50, bias=True)\n",
       "  (fc3): Linear(in_features=50, out_features=10, bias=True)\n",
       "  (fc4): Linear(in_features=10, out_features=3, bias=True)\n",
       ")"
      ]
     },
     "execution_count": 35,
     "metadata": {},
     "output_type": "execute_result"
    }
   ],
   "source": [
    "model.eval()"
   ]
  },
  {
   "cell_type": "code",
   "execution_count": 36,
   "metadata": {
    "ExecuteTime": {
     "end_time": "2024-01-31T07:37:25.049654Z",
     "start_time": "2024-01-31T07:36:03.422103Z"
    },
    "scrolled": true
   },
   "outputs": [
    {
     "name": "stdout",
     "output_type": "stream",
     "text": [
      "[1] Training loss: 20704.31492\t Validation loss: 20452.68132\n",
      "[2] Training loss: 20174.04832\t Validation loss: 19754.61589\n",
      "[3] Training loss: 19358.79232\t Validation loss: 18817.06348\n",
      "[4] Training loss: 18294.46434\t Validation loss: 17663.85905\n",
      "[5] Training loss: 17061.75613\t Validation loss: 16408.31217\n",
      "[6] Training loss: 15684.45446\t Validation loss: 15138.37874\n",
      "[7] Training loss: 13906.45115\t Validation loss: 13074.32031\n",
      "[8] Training loss: 12364.54489\t Validation loss: 11594.61377\n",
      "[9] Training loss: 10934.84194\t Validation loss: 10239.41536\n",
      "[10] Training loss: 9657.79554\t Validation loss: 9067.29964\n",
      "[11] Training loss: 8592.00551\t Validation loss: 8138.81470\n",
      "[12] Training loss: 7777.05649\t Validation loss: 7457.13493\n",
      "[13] Training loss: 7220.30688\t Validation loss: 7035.76302\n",
      "[14] Training loss: 6861.19438\t Validation loss: 6751.49398\n",
      "[15] Training loss: 6656.59467\t Validation loss: 6615.46615\n",
      "[16] Training loss: 6536.45888\t Validation loss: 6526.31071\n",
      "[17] Training loss: 6438.69590\t Validation loss: 6385.00553\n",
      "[18] Training loss: 6262.76589\t Validation loss: 6154.69173\n",
      "[19] Training loss: 6046.69101\t Validation loss: 5934.72909\n",
      "[20] Training loss: 5844.41254\t Validation loss: 5748.41756\n",
      "[21] Training loss: 5669.12813\t Validation loss: 5592.36841\n",
      "[22] Training loss: 5524.03488\t Validation loss: 5466.49422\n",
      "[23] Training loss: 5095.88061\t Validation loss: 4060.50500\n",
      "[24] Training loss: 3192.73337\t Validation loss: 2537.21086\n",
      "[25] Training loss: 2149.86673\t Validation loss: 1826.60319\n",
      "[26] Training loss: 1638.15912\t Validation loss: 1480.71075\n",
      "[27] Training loss: 1385.90679\t Validation loss: 1327.69920\n",
      "[28] Training loss: 1258.86415\t Validation loss: 1210.95996\n",
      "[29] Training loss: 1186.95095\t Validation loss: 1159.06993\n",
      "[30] Training loss: 1137.28678\t Validation loss: 1106.66166\n",
      "[31] Training loss: 1087.51752\t Validation loss: 1050.99544\n",
      "[32] Training loss: 1017.02125\t Validation loss: 963.02694\n",
      "[33] Training loss: 906.90255\t Validation loss: 832.44064\n",
      "[34] Training loss: 760.56921\t Validation loss: 681.68193\n",
      "[35] Training loss: 613.46661\t Validation loss: 542.93504\n",
      "[36] Training loss: 490.78790\t Validation loss: 426.86031\n",
      "[37] Training loss: 394.26244\t Validation loss: 344.53451\n",
      "[38] Training loss: 321.17898\t Validation loss: 287.43554\n",
      "[39] Training loss: 267.45035\t Validation loss: 241.10725\n",
      "[40] Training loss: 223.93697\t Validation loss: 205.67663\n",
      "[41] Training loss: 189.68386\t Validation loss: 173.14141\n",
      "[42] Training loss: 162.83778\t Validation loss: 150.78702\n",
      "[43] Training loss: 142.08092\t Validation loss: 130.78727\n",
      "[44] Training loss: 125.30929\t Validation loss: 114.81409\n",
      "[45] Training loss: 111.42639\t Validation loss: 102.47907\n",
      "[46] Training loss: 99.94710\t Validation loss: 92.54748\n",
      "[47] Training loss: 90.41653\t Validation loss: 83.78662\n",
      "[48] Training loss: 82.31722\t Validation loss: 76.76596\n",
      "[49] Training loss: 75.53270\t Validation loss: 70.87946\n",
      "[50] Training loss: 69.86631\t Validation loss: 65.69098\n",
      "[51] Training loss: 65.06946\t Validation loss: 61.28706\n",
      "[52] Training loss: 60.92618\t Validation loss: 57.68587\n",
      "[53] Training loss: 57.40188\t Validation loss: 54.71609\n",
      "[54] Training loss: 54.40686\t Validation loss: 51.66139\n",
      "[55] Training loss: 51.81500\t Validation loss: 49.79497\n",
      "[56] Training loss: 49.59003\t Validation loss: 47.23646\n",
      "[57] Training loss: 47.66848\t Validation loss: 46.16103\n",
      "[58] Training loss: 45.96891\t Validation loss: 43.97149\n",
      "[59] Training loss: 44.39567\t Validation loss: 42.92370\n",
      "[60] Training loss: 43.08035\t Validation loss: 41.02234\n",
      "[61] Training loss: 41.74873\t Validation loss: 39.95213\n",
      "[62] Training loss: 40.60036\t Validation loss: 39.61993\n",
      "[63] Training loss: 39.49829\t Validation loss: 38.71980\n",
      "[64] Training loss: 38.49846\t Validation loss: 37.48868\n",
      "[65] Training loss: 37.56311\t Validation loss: 36.29644\n",
      "[66] Training loss: 36.62228\t Validation loss: 35.73190\n",
      "[67] Training loss: 35.99140\t Validation loss: 34.48298\n",
      "[68] Training loss: 35.15845\t Validation loss: 33.89702\n",
      "[69] Training loss: 34.52184\t Validation loss: 32.62423\n",
      "[70] Training loss: 33.88822\t Validation loss: 31.66152\n",
      "[71] Training loss: 33.18096\t Validation loss: 30.59786\n",
      "[72] Training loss: 32.61390\t Validation loss: 29.82042\n",
      "[73] Training loss: 32.04252\t Validation loss: 28.84372\n",
      "[74] Training loss: 31.46153\t Validation loss: 28.32804\n",
      "[75] Training loss: 30.96006\t Validation loss: 27.54848\n",
      "[76] Training loss: 30.46092\t Validation loss: 26.79856\n",
      "[77] Training loss: 30.05587\t Validation loss: 25.76777\n",
      "[78] Training loss: 29.54452\t Validation loss: 24.95723\n",
      "[79] Training loss: 29.04117\t Validation loss: 24.37767\n",
      "[80] Training loss: 28.54254\t Validation loss: 24.11186\n"
     ]
    }
   ],
   "source": [
    "training_losses = []\n",
    "validation_losses = []\n",
    "\n",
    "for epoch in range(n_epochs):\n",
    "    batch_losses = []\n",
    "    for x_batch, y_batch in train_loader:\n",
    "        x_batch = x_batch.to(device)\n",
    "        y_batch = y_batch.to(device)\n",
    "        loss = train_step(x_batch, y_batch)\n",
    "        batch_losses.append(loss)\n",
    "    training_loss = np.mean(batch_losses)\n",
    "    training_losses.append(training_loss)\n",
    "\n",
    "    with torch.no_grad():\n",
    "        val_losses = []\n",
    "        for x_val, y_val in val_loader:\n",
    "            x_val = x_val.to(device)\n",
    "            y_val = y_val.to(device)\n",
    "            model.eval()\n",
    "            yh = model(x_val)\n",
    "            #yh = torch.reshape(yh, (-1,))\n",
    "            val_loss = loss_fn(y_val, yh).item()\n",
    "            val_losses.append(val_loss)\n",
    "        validation_loss = np.mean(val_losses)\n",
    "        validation_losses.append(validation_loss)\n",
    "\n",
    "    print(f\"[{epoch+1}] Training loss: {training_loss:.5f}\\t Validation loss: {validation_loss:.5f}\")"
   ]
  },
  {
   "cell_type": "code",
   "execution_count": 37,
   "metadata": {
    "ExecuteTime": {
     "end_time": "2024-01-31T07:38:53.051788Z",
     "start_time": "2024-01-31T07:38:53.034830Z"
    }
   },
   "outputs": [],
   "source": [
    "# model.state_dict()"
   ]
  },
  {
   "cell_type": "markdown",
   "metadata": {},
   "source": [
    "## Testing"
   ]
  },
  {
   "cell_type": "code",
   "execution_count": 38,
   "metadata": {
    "ExecuteTime": {
     "end_time": "2024-01-31T07:38:53.638162Z",
     "start_time": "2024-01-31T07:38:53.630178Z"
    }
   },
   "outputs": [],
   "source": [
    "def mean_absolute_percentage_error(y_true, y_pred):\n",
    "    return torch.mean(torch.abs((y_true - y_pred) / y_true)) * 100"
   ]
  },
  {
   "cell_type": "code",
   "execution_count": 39,
   "metadata": {
    "ExecuteTime": {
     "end_time": "2024-01-31T07:38:53.870790Z",
     "start_time": "2024-01-31T07:38:53.854838Z"
    }
   },
   "outputs": [],
   "source": [
    "x_test_tensor = x_test_tensor.to(device)\n",
    "y_test_tensor = y_test_tensor.to(device)\n",
    "y_pred = model(x_test_tensor).squeeze()"
   ]
  },
  {
   "cell_type": "code",
   "execution_count": 40,
   "metadata": {
    "ExecuteTime": {
     "end_time": "2024-01-31T07:38:54.029368Z",
     "start_time": "2024-01-31T07:38:54.024381Z"
    }
   },
   "outputs": [
    {
     "name": "stdout",
     "output_type": "stream",
     "text": [
      "tensor(24.1154, grad_fn=<MseLossBackward0>)\n"
     ]
    }
   ],
   "source": [
    "test_loss = loss_fn(y_test_tensor, y_pred)\n",
    "print(test_loss)"
   ]
  },
  {
   "cell_type": "code",
   "execution_count": 41,
   "metadata": {
    "ExecuteTime": {
     "end_time": "2024-01-31T07:38:54.216806Z",
     "start_time": "2024-01-31T07:38:54.206833Z"
    }
   },
   "outputs": [
    {
     "name": "stdout",
     "output_type": "stream",
     "text": [
      "The mean of absolute percentage error: 4.32%\n"
     ]
    }
   ],
   "source": [
    "print(f\"The mean of absolute percentage error: {mean_absolute_percentage_error(y_test_tensor.cpu(), y_pred.cpu()):.2f}%\")"
   ]
  },
  {
   "cell_type": "markdown",
   "metadata": {},
   "source": [
    "## Real-world case"
   ]
  },
  {
   "cell_type": "code",
   "execution_count": 42,
   "metadata": {
    "ExecuteTime": {
     "end_time": "2024-01-31T07:38:56.155330Z",
     "start_time": "2024-01-31T07:38:55.942871Z"
    }
   },
   "outputs": [],
   "source": [
    "import pandas as pd"
   ]
  },
  {
   "cell_type": "code",
   "execution_count": 43,
   "metadata": {
    "ExecuteTime": {
     "end_time": "2024-01-31T07:38:56.467898Z",
     "start_time": "2024-01-31T07:38:56.412915Z"
    }
   },
   "outputs": [],
   "source": [
    "case1 = pd.read_csv('20230220036.csv', header=None)"
   ]
  },
  {
   "cell_type": "code",
   "execution_count": 44,
   "metadata": {
    "ExecuteTime": {
     "end_time": "2024-01-31T07:38:56.605837Z",
     "start_time": "2024-01-31T07:38:56.602846Z"
    }
   },
   "outputs": [
    {
     "data": {
      "text/plain": [
       "(1, 300)"
      ]
     },
     "execution_count": 44,
     "metadata": {},
     "output_type": "execute_result"
    }
   ],
   "source": [
    "case1.shape"
   ]
  },
  {
   "cell_type": "code",
   "execution_count": 45,
   "metadata": {
    "ExecuteTime": {
     "end_time": "2024-01-31T07:38:56.805941Z",
     "start_time": "2024-01-31T07:38:56.792618Z"
    }
   },
   "outputs": [],
   "source": [
    "case1= np.array(case1)\n",
    "case1=case1[:,20:299]\n",
    "case1_tensor = torch.from_numpy(case1).float()"
   ]
  },
  {
   "cell_type": "code",
   "execution_count": 46,
   "metadata": {
    "ExecuteTime": {
     "end_time": "2024-01-31T07:38:56.991537Z",
     "start_time": "2024-01-31T07:38:56.974585Z"
    }
   },
   "outputs": [],
   "source": [
    "model.eval()\n",
    "pred_1 = model(case1_tensor)"
   ]
  },
  {
   "cell_type": "code",
   "execution_count": 47,
   "metadata": {
    "ExecuteTime": {
     "end_time": "2024-01-31T07:38:57.179036Z",
     "start_time": "2024-01-31T07:38:57.167068Z"
    }
   },
   "outputs": [
    {
     "data": {
      "text/plain": [
       "tensor([[165.0116,  69.0174, 126.4408]], grad_fn=<ReluBackward0>)"
      ]
     },
     "execution_count": 47,
     "metadata": {},
     "output_type": "execute_result"
    }
   ],
   "source": [
    "pred_1"
   ]
  }
 ],
 "metadata": {
  "kernelspec": {
   "display_name": "Python 3",
   "language": "python",
   "name": "python3"
  },
  "language_info": {
   "codemirror_mode": {
    "name": "ipython",
    "version": 3
   },
   "file_extension": ".py",
   "mimetype": "text/x-python",
   "name": "python",
   "nbconvert_exporter": "python",
   "pygments_lexer": "ipython3",
   "version": "3.8.8"
  }
 },
 "nbformat": 4,
 "nbformat_minor": 4
}
