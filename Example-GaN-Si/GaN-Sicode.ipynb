{
 "cells": [
  {
   "cell_type": "markdown",
   "id": "eb9a8218",
   "metadata": {
    "ExecuteTime": {
     "end_time": "2024-02-01T01:24:09.269504Z",
     "start_time": "2024-02-01T01:24:09.266511Z"
    }
   },
   "source": [
    "## Prerequisites"
   ]
  },
  {
   "cell_type": "code",
   "execution_count": null,
   "id": "70b3127a",
   "metadata": {},
   "outputs": [],
   "source": [
    "!pip install numpy matplotlib pandas sklearn"
   ]
  },
  {
   "cell_type": "code",
   "execution_count": null,
   "id": "437a093d",
   "metadata": {},
   "outputs": [],
   "source": [
    "!python -V"
   ]
  },
  {
   "cell_type": "markdown",
   "id": "8a1923d2",
   "metadata": {},
   "source": [
    "## Data Preprocessing"
   ]
  },
  {
   "cell_type": "code",
   "execution_count": null,
   "id": "e8f0b577",
   "metadata": {},
   "outputs": [],
   "source": [
    "import scipy\n",
    "from scipy.io import loadmat\n",
    "import pickle"
   ]
  },
  {
   "cell_type": "markdown",
   "id": "130f49f8",
   "metadata": {},
   "source": [
    "### Input dataset"
   ]
  },
  {
   "cell_type": "code",
   "execution_count": null,
   "id": "62e30783",
   "metadata": {},
   "outputs": [],
   "source": [
    "data = loadmat(r'Au-Ti-SiC-dataset.mat')"
   ]
  },
  {
   "cell_type": "code",
   "execution_count": null,
   "id": "af4fc9f9",
   "metadata": {},
   "outputs": [],
   "source": [
    "import pickle\n",
    "import numpy as np"
   ]
  },
  {
   "cell_type": "code",
   "execution_count": null,
   "id": "a6e60fdb",
   "metadata": {},
   "outputs": [],
   "source": [
    "np.set_printoptions(suppress=True)"
   ]
  },
  {
   "cell_type": "code",
   "execution_count": null,
   "id": "12b2ecc0",
   "metadata": {},
   "outputs": [],
   "source": [
    "X = np.transpose(data['re'])\n",
    "X.shape"
   ]
  },
  {
   "cell_type": "code",
   "execution_count": null,
   "id": "810758ca",
   "metadata": {},
   "outputs": [],
   "source": [
    "X = X.T\n",
    "X.shape"
   ]
  },
  {
   "cell_type": "code",
   "execution_count": null,
   "id": "adc2e804",
   "metadata": {},
   "outputs": [],
   "source": [
    "layer_1 = np.linspace(250, 500, 100, endpoint=True)\n",
    "layer_4 = np.linspace(0.1, 1.5, 100, endpoint=True)\n",
    "layer_2 = layer_4*100"
   ]
  },
  {
   "cell_type": "code",
   "execution_count": null,
   "id": "1be8429d",
   "metadata": {},
   "outputs": [],
   "source": [
    "y = np.zeros((X.shape[0], 2))"
   ]
  },
  {
   "cell_type": "code",
   "execution_count": null,
   "id": "bcf9a414",
   "metadata": {},
   "outputs": [],
   "source": [
    "i = 0\n",
    "for l2 in layer_2:\n",
    "    for l1 in layer_1:\n",
    "            y[i] = [ l2, l1]\n",
    "            i = i + 1"
   ]
  },
  {
   "cell_type": "code",
   "execution_count": null,
   "id": "b08ad7e1",
   "metadata": {},
   "outputs": [],
   "source": [
    "y.shape"
   ]
  },
  {
   "cell_type": "markdown",
   "id": "f6e75062",
   "metadata": {},
   "source": [
    "### Train test split"
   ]
  },
  {
   "cell_type": "code",
   "execution_count": null,
   "id": "5e13e928",
   "metadata": {},
   "outputs": [],
   "source": [
    "from sklearn.model_selection import train_test_split"
   ]
  },
  {
   "cell_type": "code",
   "execution_count": null,
   "id": "91b42c08",
   "metadata": {},
   "outputs": [],
   "source": [
    "X_train, X_test, y_train, y_test = train_test_split(X, y, test_size=0.05, random_state=0)"
   ]
  },
  {
   "cell_type": "code",
   "execution_count": null,
   "id": "7719b784",
   "metadata": {},
   "outputs": [],
   "source": [
    "import torch\n",
    "from torch.utils.data import Dataset, TensorDataset, DataLoader\n",
    "from torch.utils.data.dataset import random_split"
   ]
  },
  {
   "cell_type": "code",
   "execution_count": null,
   "id": "80afde9b",
   "metadata": {},
   "outputs": [],
   "source": [
    "x_train_tensor = torch.from_numpy(X_train).float()\n",
    "y_train_tensor = torch.from_numpy(y_train).float()\n",
    "\n",
    "x_test_tensor = torch.from_numpy(X_test).float()\n",
    "y_test_tensor = torch.from_numpy(y_test).float()"
   ]
  },
  {
   "cell_type": "code",
   "execution_count": null,
   "id": "486af325",
   "metadata": {},
   "outputs": [],
   "source": [
    "# Builds dataset with ALL data\n",
    "origin_train_dataset = TensorDataset(x_train_tensor, y_train_tensor)\n",
    "\n",
    "# Splits randomly into train and validation datasets\n",
    "train_dataset, val_dataset = random_split(origin_train_dataset, [int(x_train_tensor.shape[0] * 0.9), int(x_train_tensor.shape[0] * 0.1)])\n",
    "\n",
    "# Builds a loader for each dataset to perform mini-batch gradient descent\n",
    "train_loader = DataLoader(dataset=train_dataset, batch_size=2000)\n",
    "val_loader = DataLoader(dataset=val_dataset, batch_size=2000)\n",
    "\n",
    "test_dataset = TensorDataset(x_test_tensor, y_test_tensor)\n",
    "test_loader  = DataLoader(dataset=test_dataset, batch_size=2000)"
   ]
  },
  {
   "cell_type": "markdown",
   "id": "a22065ab",
   "metadata": {},
   "source": [
    "## Model"
   ]
  },
  {
   "cell_type": "code",
   "execution_count": null,
   "id": "4de57650",
   "metadata": {},
   "outputs": [],
   "source": [
    "import torch.nn as nn"
   ]
  },
  {
   "cell_type": "code",
   "execution_count": null,
   "id": "579d0a4f",
   "metadata": {},
   "outputs": [],
   "source": [
    "class Net(nn.Module):\n",
    "\n",
    "    def __init__(self):\n",
    "        super(Net, self).__init__()\n",
    "        self.bn1 = nn.BatchNorm1d(X.shape[1])\n",
    "        self.fc1 = nn.Linear(X.shape[1], 100)\n",
    "        self.bn2 = nn.BatchNorm1d(100)\n",
    "        self.fc2 = nn.Linear(100, 50)\n",
    "        self.fc3 = nn.Linear(50, 10)\n",
    "        self.fc4 = nn.Linear(10, 2)\n",
    "\n",
    "    def forward(self, x):\n",
    "        x = self.bn1(x)\n",
    "        x = self.fc1(x)\n",
    "        x = torch.tanh(x)\n",
    "        x = self.bn2(x)\n",
    "        x = self.fc2(x)\n",
    "        x = torch.tanh(x)\n",
    "        x = self.fc3(x)\n",
    "        x = torch.relu(x)\n",
    "        x = self.fc4(x)\n",
    "        x = torch.relu(x)\n",
    "        return x"
   ]
  },
  {
   "cell_type": "markdown",
   "id": "023210e3",
   "metadata": {},
   "source": [
    "## Training"
   ]
  },
  {
   "cell_type": "code",
   "execution_count": null,
   "id": "8a6f2b9d",
   "metadata": {},
   "outputs": [],
   "source": [
    "import torch.optim as optim"
   ]
  },
  {
   "cell_type": "code",
   "execution_count": null,
   "id": "fd2c27e7",
   "metadata": {},
   "outputs": [],
   "source": [
    "device = 'cuda' if torch.cuda.is_available() else 'cpu'"
   ]
  },
  {
   "cell_type": "code",
   "execution_count": null,
   "id": "b80701cb",
   "metadata": {},
   "outputs": [],
   "source": [
    "n_epochs = 250"
   ]
  },
  {
   "cell_type": "code",
   "execution_count": null,
   "id": "7016d01f",
   "metadata": {},
   "outputs": [],
   "source": [
    "def make_train_step(model, loss_fn, optimizer):\n",
    "    def train_step(x, y):\n",
    "        model.train()\n",
    "        yh = model(x)\n",
    "        loss = loss_fn(y, yh)\n",
    "        loss.backward()\n",
    "        torch.nn.utils.clip_grad_norm_(model.parameters(), 0.25)\n",
    "        optimizer.step()\n",
    "        optimizer.zero_grad()\n",
    "        return loss.item()\n",
    "    return train_step"
   ]
  },
  {
   "cell_type": "code",
   "execution_count": null,
   "id": "093f7e49",
   "metadata": {},
   "outputs": [],
   "source": [
    "model = Net().to(device)\n",
    "\n",
    "loss_fn = nn.MSELoss(reduction='mean')\n",
    "\n",
    "# optimizer = optim.SGD(model.parameters(), lr=0.01)\n",
    "optimizer = optim.Adam(model.parameters(), lr=0.005, weight_decay=0.001)\n",
    "\n",
    "train_step = make_train_step(model, loss_fn, optimizer)"
   ]
  },
  {
   "cell_type": "code",
   "execution_count": null,
   "id": "5668b646",
   "metadata": {},
   "outputs": [],
   "source": [
    "model.eval()"
   ]
  },
  {
   "cell_type": "code",
   "execution_count": null,
   "id": "3f76bfad",
   "metadata": {},
   "outputs": [],
   "source": [
    "training_losses = []\n",
    "validation_losses = []\n",
    "\n",
    "for epoch in range(n_epochs):\n",
    "    batch_losses = []\n",
    "    for x_batch, y_batch in train_loader:\n",
    "        x_batch = x_batch.to(device)\n",
    "        y_batch = y_batch.to(device)\n",
    "        loss = train_step(x_batch, y_batch)\n",
    "        batch_losses.append(loss)\n",
    "    training_loss = np.mean(batch_losses)\n",
    "    training_losses.append(training_loss)\n",
    "\n",
    "    with torch.no_grad():\n",
    "        val_losses = []\n",
    "        for x_val, y_val in val_loader:\n",
    "            x_val = x_val.to(device)\n",
    "            y_val = y_val.to(device)\n",
    "            model.eval()\n",
    "            yh = model(x_val)\n",
    "            #yh = torch.reshape(yh, (-1,))\n",
    "            val_loss = loss_fn(y_val, yh).item()\n",
    "            val_losses.append(val_loss)\n",
    "        validation_loss = np.mean(val_losses)\n",
    "        validation_losses.append(validation_loss)\n",
    "\n",
    "    print(f\"[{epoch+1}] Training loss: {training_loss:.5f}\\t Validation loss: {validation_loss:.5f}\")"
   ]
  },
  {
   "cell_type": "markdown",
   "id": "1f84d9cc",
   "metadata": {},
   "source": [
    "## Testing"
   ]
  },
  {
   "cell_type": "code",
   "execution_count": null,
   "id": "4db0c6d6",
   "metadata": {},
   "outputs": [],
   "source": [
    "def mean_absolute_percentage_error(y_true, y_pred):\n",
    "    return torch.mean(torch.abs((y_true - y_pred) / y_true)) * 100"
   ]
  },
  {
   "cell_type": "code",
   "execution_count": null,
   "id": "a6ebd750",
   "metadata": {},
   "outputs": [],
   "source": [
    "x_test_tensor = x_test_tensor.to(device)\n",
    "y_test_tensor = y_test_tensor.to(device)\n",
    "y_pred = model(x_test_tensor).squeeze()"
   ]
  },
  {
   "cell_type": "code",
   "execution_count": null,
   "id": "33521c39",
   "metadata": {},
   "outputs": [],
   "source": [
    "test_loss = loss_fn(y_test_tensor, y_pred)\n",
    "print(test_loss)"
   ]
  },
  {
   "cell_type": "code",
   "execution_count": null,
   "id": "e54e2211",
   "metadata": {},
   "outputs": [],
   "source": [
    "print(f\"The mean of absolute percentage error: {mean_absolute_percentage_error(y_test_tensor.cpu(), y_pred.cpu()):.2f}%\")"
   ]
  },
  {
   "cell_type": "markdown",
   "id": "84fd8f4a",
   "metadata": {},
   "source": [
    "## Real-world case predict"
   ]
  },
  {
   "cell_type": "code",
   "execution_count": null,
   "id": "248dd1dd",
   "metadata": {},
   "outputs": [],
   "source": [
    "import pandas as pd"
   ]
  },
  {
   "cell_type": "markdown",
   "id": "ebac4ecc",
   "metadata": {},
   "source": [
    "### Input experimental data"
   ]
  },
  {
   "cell_type": "code",
   "execution_count": null,
   "id": "49b6163f",
   "metadata": {},
   "outputs": [],
   "source": [
    "case1 = pd.read_csv('Au-Ti-SiCexperimentaldata.csv', header=None)\n",
    "case1 = np.reshape(np.array(case1), [ 1,-1])"
   ]
  },
  {
   "cell_type": "code",
   "execution_count": null,
   "id": "411637d5",
   "metadata": {},
   "outputs": [],
   "source": [
    "case1.shape"
   ]
  },
  {
   "cell_type": "code",
   "execution_count": null,
   "id": "23c2e5e4",
   "metadata": {},
   "outputs": [],
   "source": [
    "case1= np.array(case1)\n",
    "case1_tensor = torch.from_numpy(case1).float()"
   ]
  },
  {
   "cell_type": "code",
   "execution_count": null,
   "id": "6d79ff8c",
   "metadata": {},
   "outputs": [],
   "source": [
    "model.eval()\n",
    "pred_1 = model(case1_tensor)"
   ]
  },
  {
   "cell_type": "markdown",
   "id": "56173374",
   "metadata": {},
   "source": [
    "### Output predction"
   ]
  },
  {
   "cell_type": "code",
   "execution_count": null,
   "id": "e24e6e7e",
   "metadata": {},
   "outputs": [],
   "source": [
    "pred_1"
   ]
  }
 ],
 "metadata": {
  "kernelspec": {
   "display_name": "Python 3",
   "language": "python",
   "name": "python3"
  },
  "language_info": {
   "codemirror_mode": {
    "name": "ipython",
    "version": 3
   },
   "file_extension": ".py",
   "mimetype": "text/x-python",
   "name": "python",
   "nbconvert_exporter": "python",
   "pygments_lexer": "ipython3",
   "version": "3.8.8"
  }
 },
 "nbformat": 4,
 "nbformat_minor": 5
}
